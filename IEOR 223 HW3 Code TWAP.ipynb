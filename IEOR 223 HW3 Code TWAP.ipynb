{
 "cells": [
  {
   "cell_type": "code",
   "execution_count": 1,
   "metadata": {},
   "outputs": [],
   "source": [
    "import pandas as pd \n",
    "import numpy as np \n",
    "import yfinance as yf\n",
    "import matplotlib.pyplot as plt"
   ]
  },
  {
   "cell_type": "code",
   "execution_count": 6,
   "metadata": {},
   "outputs": [
    {
     "name": "stdout",
     "output_type": "stream",
     "text": [
      "[*********************100%***********************]  1 of 1 completed\n"
     ]
    }
   ],
   "source": [
    "msft= yf.download(tickers = \"MSFT\",period = \"6d\",group_by = 'ticker')"
   ]
  },
  {
   "cell_type": "code",
   "execution_count": 9,
   "metadata": {},
   "outputs": [],
   "source": [
    "msft=msft[:5]"
   ]
  },
  {
   "cell_type": "code",
   "execution_count": 10,
   "metadata": {},
   "outputs": [
    {
     "name": "stderr",
     "output_type": "stream",
     "text": [
      "<ipython-input-10-1da8a7f55a1d>:1: SettingWithCopyWarning: \n",
      "A value is trying to be set on a copy of a slice from a DataFrame.\n",
      "Try using .loc[row_indexer,col_indexer] = value instead\n",
      "\n",
      "See the caveats in the documentation: https://pandas.pydata.org/pandas-docs/stable/user_guide/indexing.html#returning-a-view-versus-a-copy\n",
      "  msft[\"AvgP\"] = (msft[\"Open\"]+msft[\"High\"]+ msft[\"Low\"]+msft[\"Close\"])/4\n",
      "<ipython-input-10-1da8a7f55a1d>:2: SettingWithCopyWarning: \n",
      "A value is trying to be set on a copy of a slice from a DataFrame.\n",
      "Try using .loc[row_indexer,col_indexer] = value instead\n",
      "\n",
      "See the caveats in the documentation: https://pandas.pydata.org/pandas-docs/stable/user_guide/indexing.html#returning-a-view-versus-a-copy\n",
      "  msft[\"TWAP\"]= np.mean(msft[\"AvgP\"])\n",
      "<ipython-input-10-1da8a7f55a1d>:3: SettingWithCopyWarning: \n",
      "A value is trying to be set on a copy of a slice from a DataFrame.\n",
      "Try using .loc[row_indexer,col_indexer] = value instead\n",
      "\n",
      "See the caveats in the documentation: https://pandas.pydata.org/pandas-docs/stable/user_guide/indexing.html#returning-a-view-versus-a-copy\n",
      "  msft[\"Comparison\"]= (msft[\"TWAP\"]>msft[\"AvgP\"] )\n"
     ]
    },
    {
     "data": {
      "text/html": [
       "<div>\n",
       "<style scoped>\n",
       "    .dataframe tbody tr th:only-of-type {\n",
       "        vertical-align: middle;\n",
       "    }\n",
       "\n",
       "    .dataframe tbody tr th {\n",
       "        vertical-align: top;\n",
       "    }\n",
       "\n",
       "    .dataframe thead th {\n",
       "        text-align: right;\n",
       "    }\n",
       "</style>\n",
       "<table border=\"1\" class=\"dataframe\">\n",
       "  <thead>\n",
       "    <tr style=\"text-align: right;\">\n",
       "      <th></th>\n",
       "      <th>Open</th>\n",
       "      <th>High</th>\n",
       "      <th>Low</th>\n",
       "      <th>Close</th>\n",
       "      <th>Adj Close</th>\n",
       "      <th>Volume</th>\n",
       "      <th>AvgP</th>\n",
       "      <th>TWAP</th>\n",
       "      <th>Comparison</th>\n",
       "    </tr>\n",
       "    <tr>\n",
       "      <th>Date</th>\n",
       "      <th></th>\n",
       "      <th></th>\n",
       "      <th></th>\n",
       "      <th></th>\n",
       "      <th></th>\n",
       "      <th></th>\n",
       "      <th></th>\n",
       "      <th></th>\n",
       "      <th></th>\n",
       "    </tr>\n",
       "  </thead>\n",
       "  <tbody>\n",
       "    <tr>\n",
       "      <th>2022-09-19</th>\n",
       "      <td>242.470001</td>\n",
       "      <td>245.139999</td>\n",
       "      <td>240.850006</td>\n",
       "      <td>244.520004</td>\n",
       "      <td>244.520004</td>\n",
       "      <td>26826900</td>\n",
       "      <td>243.245003</td>\n",
       "      <td>241.225</td>\n",
       "      <td>False</td>\n",
       "    </tr>\n",
       "    <tr>\n",
       "      <th>2022-09-20</th>\n",
       "      <td>242.070007</td>\n",
       "      <td>243.509995</td>\n",
       "      <td>239.639999</td>\n",
       "      <td>242.449997</td>\n",
       "      <td>242.449997</td>\n",
       "      <td>26660300</td>\n",
       "      <td>241.917500</td>\n",
       "      <td>241.225</td>\n",
       "      <td>False</td>\n",
       "    </tr>\n",
       "    <tr>\n",
       "      <th>2022-09-21</th>\n",
       "      <td>244.270004</td>\n",
       "      <td>247.660004</td>\n",
       "      <td>238.899994</td>\n",
       "      <td>238.949997</td>\n",
       "      <td>238.949997</td>\n",
       "      <td>28625600</td>\n",
       "      <td>242.445000</td>\n",
       "      <td>241.225</td>\n",
       "      <td>False</td>\n",
       "    </tr>\n",
       "    <tr>\n",
       "      <th>2022-09-22</th>\n",
       "      <td>237.869995</td>\n",
       "      <td>243.860001</td>\n",
       "      <td>237.570007</td>\n",
       "      <td>240.979996</td>\n",
       "      <td>240.979996</td>\n",
       "      <td>31061200</td>\n",
       "      <td>240.070000</td>\n",
       "      <td>241.225</td>\n",
       "      <td>True</td>\n",
       "    </tr>\n",
       "    <tr>\n",
       "      <th>2022-09-23</th>\n",
       "      <td>239.539993</td>\n",
       "      <td>241.130005</td>\n",
       "      <td>235.199997</td>\n",
       "      <td>237.919998</td>\n",
       "      <td>237.919998</td>\n",
       "      <td>34137200</td>\n",
       "      <td>238.447498</td>\n",
       "      <td>241.225</td>\n",
       "      <td>True</td>\n",
       "    </tr>\n",
       "  </tbody>\n",
       "</table>\n",
       "</div>"
      ],
      "text/plain": [
       "                  Open        High         Low       Close   Adj Close  \\\n",
       "Date                                                                     \n",
       "2022-09-19  242.470001  245.139999  240.850006  244.520004  244.520004   \n",
       "2022-09-20  242.070007  243.509995  239.639999  242.449997  242.449997   \n",
       "2022-09-21  244.270004  247.660004  238.899994  238.949997  238.949997   \n",
       "2022-09-22  237.869995  243.860001  237.570007  240.979996  240.979996   \n",
       "2022-09-23  239.539993  241.130005  235.199997  237.919998  237.919998   \n",
       "\n",
       "              Volume        AvgP     TWAP  Comparison  \n",
       "Date                                                   \n",
       "2022-09-19  26826900  243.245003  241.225       False  \n",
       "2022-09-20  26660300  241.917500  241.225       False  \n",
       "2022-09-21  28625600  242.445000  241.225       False  \n",
       "2022-09-22  31061200  240.070000  241.225        True  \n",
       "2022-09-23  34137200  238.447498  241.225        True  "
      ]
     },
     "execution_count": 10,
     "metadata": {},
     "output_type": "execute_result"
    }
   ],
   "source": [
    "msft[\"AvgP\"] = (msft[\"Open\"]+msft[\"High\"]+ msft[\"Low\"]+msft[\"Close\"])/4\n",
    "msft[\"TWAP\"]= np.mean(msft[\"AvgP\"])\n",
    "msft[\"Comparison\"]= (msft[\"TWAP\"]>msft[\"AvgP\"] )\n",
    "msft\n"
   ]
  },
  {
   "cell_type": "code",
   "execution_count": 11,
   "metadata": {},
   "outputs": [
    {
     "data": {
      "image/png": "[encoded data removed]",
      "text/plain": [
       "<Figure size 432x288 with 1 Axes>"
      ]
     },
     "metadata": {
      "needs_background": "light"
     },
     "output_type": "display_data"
    }
   ],
   "source": [
    "x = msft.index\n",
    "fig, ax = plt.subplots()\n",
    "ax.plot(x, msft[\"TWAP\"], '--g', label='TWAP')\n",
    "ax.plot(x, msft[\"AvgP\"], '-r', label='Avg Price')\n",
    "leg = ax.legend();"
   ]
  },
  {
   "cell_type": "markdown",
   "metadata": {},
   "source": [
    "From the above, styarting 09/22, the Avg price plummets to below the TWAP. This is indicative of the order price on these two dates i.e 09/22 and 09/23, being undervalued. Prior to 09/22 as TWAP < Avg price, the order price would have been overvalued. "
   ]
  },
  {
   "cell_type": "code",
   "execution_count": null,
   "metadata": {},
   "outputs": [],
   "source": []
  },
  {
   "cell_type": "code",
   "execution_count": null,
   "metadata": {},
   "outputs": [],
   "source": []
  }
 ],
 "metadata": {
  "kernelspec": {
   "display_name": "Python 3",
   "language": "python",
   "name": "python3"
  },
  "language_info": {
   "codemirror_mode": {
    "name": "ipython",
    "version": 3
   },
   "file_extension": ".py",
   "mimetype": "text/x-python",
   "name": "python",
   "nbconvert_exporter": "python",
   "pygments_lexer": "ipython3",
   "version": "3.8.3"
  }
 },
 "nbformat": 4,
 "nbformat_minor": 4
}
